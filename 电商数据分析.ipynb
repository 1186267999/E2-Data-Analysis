{
 "cells": [
  {
   "cell_type": "code",
   "execution_count": 41,
   "metadata": {
    "scrolled": true
   },
   "outputs": [],
   "source": [
    "# 导入所需库\n",
    "import numpy as np\n",
    "import pandas as pd\n",
    "import matplotlib.pyplot as plt\n",
    "import seaborn as sns\n",
    "from sklearn.cluster import KMeans\n",
    "from sklearn import preprocessing\n",
    "%matplotlib inline\n",
    "plt.style.use(\"ggplot\")\n",
    "plt.rcParams['font.sans-serif']= ['Heiti TC']#防止中文乱码\n",
    "plt.rcParams['axes.unicode_minus']=False#解决负号'-'显示为方块的问题\n",
    "import warnings\n",
    "warnings.filterwarnings('ignore')"
   ]
  },
  {
   "cell_type": "code",
   "execution_count": 42,
   "metadata": {},
   "outputs": [],
   "source": [
    "# 导入数据\n",
    "filepath='E-Commerce-Visitor-Data.csv'\n",
    "data_train=pd.read_csv(filepath,encoding='utf-8')\n",
    "#使用encoding=utf-8可以使得pandas读入中文字符"
   ]
  },
  {
   "cell_type": "code",
   "execution_count": 43,
   "metadata": {},
   "outputs": [
    {
     "data": {
      "text/html": [
       "<div>\n",
       "<style scoped>\n",
       "    .dataframe tbody tr th:only-of-type {\n",
       "        vertical-align: middle;\n",
       "    }\n",
       "\n",
       "    .dataframe tbody tr th {\n",
       "        vertical-align: top;\n",
       "    }\n",
       "\n",
       "    .dataframe thead th {\n",
       "        text-align: right;\n",
       "    }\n",
       "</style>\n",
       "<table border=\"1\" class=\"dataframe\">\n",
       "  <thead>\n",
       "    <tr style=\"text-align: right;\">\n",
       "      <th></th>\n",
       "      <th>访客类型</th>\n",
       "      <th>月份</th>\n",
       "      <th>产品相关页面访问持续时间</th>\n",
       "      <th>信息相关页面</th>\n",
       "      <th>用户相关页面</th>\n",
       "      <th>信息相关页面访问持续时间</th>\n",
       "      <th>退出率</th>\n",
       "      <th>跳出率</th>\n",
       "      <th>产品相关页面</th>\n",
       "      <th>网页价值</th>\n",
       "      <th>操作系统</th>\n",
       "      <th>周末</th>\n",
       "      <th>浏览器</th>\n",
       "      <th>用户页面访问持续时间</th>\n",
       "      <th>区域</th>\n",
       "      <th>流量类型</th>\n",
       "      <th>节假日</th>\n",
       "      <th>是否购买</th>\n",
       "    </tr>\n",
       "  </thead>\n",
       "  <tbody>\n",
       "    <tr>\n",
       "      <th>0</th>\n",
       "      <td>Returning_Visitor</td>\n",
       "      <td>Dec</td>\n",
       "      <td>556.916667</td>\n",
       "      <td>0</td>\n",
       "      <td>0</td>\n",
       "      <td>0.000000</td>\n",
       "      <td>0.022436</td>\n",
       "      <td>0.010256</td>\n",
       "      <td>26</td>\n",
       "      <td>0.0</td>\n",
       "      <td>4</td>\n",
       "      <td>False</td>\n",
       "      <td>2</td>\n",
       "      <td>0.00</td>\n",
       "      <td>1</td>\n",
       "      <td>8</td>\n",
       "      <td>0.0</td>\n",
       "      <td>0</td>\n",
       "    </tr>\n",
       "    <tr>\n",
       "      <th>1</th>\n",
       "      <td>Returning_Visitor</td>\n",
       "      <td>Dec</td>\n",
       "      <td>2348.812500</td>\n",
       "      <td>5</td>\n",
       "      <td>0</td>\n",
       "      <td>39.833333</td>\n",
       "      <td>0.055167</td>\n",
       "      <td>0.020000</td>\n",
       "      <td>34</td>\n",
       "      <td>0.0</td>\n",
       "      <td>2</td>\n",
       "      <td>False</td>\n",
       "      <td>2</td>\n",
       "      <td>0.00</td>\n",
       "      <td>3</td>\n",
       "      <td>1</td>\n",
       "      <td>0.0</td>\n",
       "      <td>0</td>\n",
       "    </tr>\n",
       "    <tr>\n",
       "      <th>2</th>\n",
       "      <td>New_Visitor</td>\n",
       "      <td>June</td>\n",
       "      <td>1570.133333</td>\n",
       "      <td>6</td>\n",
       "      <td>0</td>\n",
       "      <td>89.800000</td>\n",
       "      <td>0.005357</td>\n",
       "      <td>0.000000</td>\n",
       "      <td>26</td>\n",
       "      <td>0.0</td>\n",
       "      <td>2</td>\n",
       "      <td>True</td>\n",
       "      <td>2</td>\n",
       "      <td>0.00</td>\n",
       "      <td>8</td>\n",
       "      <td>4</td>\n",
       "      <td>0.0</td>\n",
       "      <td>0</td>\n",
       "    </tr>\n",
       "    <tr>\n",
       "      <th>3</th>\n",
       "      <td>Returning_Visitor</td>\n",
       "      <td>Dec</td>\n",
       "      <td>821.682540</td>\n",
       "      <td>4</td>\n",
       "      <td>2</td>\n",
       "      <td>159.000000</td>\n",
       "      <td>0.019343</td>\n",
       "      <td>0.000617</td>\n",
       "      <td>33</td>\n",
       "      <td>0.0</td>\n",
       "      <td>2</td>\n",
       "      <td>False</td>\n",
       "      <td>2</td>\n",
       "      <td>27.75</td>\n",
       "      <td>1</td>\n",
       "      <td>2</td>\n",
       "      <td>0.0</td>\n",
       "      <td>1</td>\n",
       "    </tr>\n",
       "    <tr>\n",
       "      <th>4</th>\n",
       "      <td>Returning_Visitor</td>\n",
       "      <td>Jul</td>\n",
       "      <td>584.377778</td>\n",
       "      <td>5</td>\n",
       "      <td>2</td>\n",
       "      <td>38.577778</td>\n",
       "      <td>0.064352</td>\n",
       "      <td>0.000000</td>\n",
       "      <td>7</td>\n",
       "      <td>0.0</td>\n",
       "      <td>1</td>\n",
       "      <td>True</td>\n",
       "      <td>1</td>\n",
       "      <td>9.00</td>\n",
       "      <td>1</td>\n",
       "      <td>2</td>\n",
       "      <td>0.0</td>\n",
       "      <td>1</td>\n",
       "    </tr>\n",
       "  </tbody>\n",
       "</table>\n",
       "</div>"
      ],
      "text/plain": [
       "                访客类型    月份  产品相关页面访问持续时间  信息相关页面  用户相关页面  信息相关页面访问持续时间  \\\n",
       "0  Returning_Visitor   Dec    556.916667       0       0      0.000000   \n",
       "1  Returning_Visitor   Dec   2348.812500       5       0     39.833333   \n",
       "2        New_Visitor  June   1570.133333       6       0     89.800000   \n",
       "3  Returning_Visitor   Dec    821.682540       4       2    159.000000   \n",
       "4  Returning_Visitor   Jul    584.377778       5       2     38.577778   \n",
       "\n",
       "        退出率       跳出率  产品相关页面  网页价值  操作系统     周末  浏览器  用户页面访问持续时间  区域  流量类型  \\\n",
       "0  0.022436  0.010256      26   0.0     4  False    2        0.00   1     8   \n",
       "1  0.055167  0.020000      34   0.0     2  False    2        0.00   3     1   \n",
       "2  0.005357  0.000000      26   0.0     2   True    2        0.00   8     4   \n",
       "3  0.019343  0.000617      33   0.0     2  False    2       27.75   1     2   \n",
       "4  0.064352  0.000000       7   0.0     1   True    1        9.00   1     2   \n",
       "\n",
       "   节假日  是否购买  \n",
       "0  0.0     0  \n",
       "1  0.0     0  \n",
       "2  0.0     0  \n",
       "3  0.0     1  \n",
       "4  0.0     1  "
      ]
     },
     "execution_count": 43,
     "metadata": {},
     "output_type": "execute_result"
    }
   ],
   "source": [
    "data_train.head()"
   ]
  },
  {
   "cell_type": "code",
   "execution_count": 44,
   "metadata": {},
   "outputs": [
    {
     "name": "stdout",
     "output_type": "stream",
     "text": [
      "<class 'pandas.core.frame.DataFrame'>\n",
      "RangeIndex: 8631 entries, 0 to 8630\n",
      "Data columns (total 18 columns):\n",
      " #   Column        Non-Null Count  Dtype  \n",
      "---  ------        --------------  -----  \n",
      " 0   访客类型          8631 non-null   object \n",
      " 1   月份            8631 non-null   object \n",
      " 2   产品相关页面访问持续时间  8631 non-null   float64\n",
      " 3   信息相关页面        8631 non-null   int64  \n",
      " 4   用户相关页面        8631 non-null   int64  \n",
      " 5   信息相关页面访问持续时间  8631 non-null   float64\n",
      " 6   退出率           8631 non-null   float64\n",
      " 7   跳出率           8631 non-null   float64\n",
      " 8   产品相关页面        8631 non-null   int64  \n",
      " 9   网页价值          8631 non-null   float64\n",
      " 10  操作系统          8631 non-null   int64  \n",
      " 11  周末            8631 non-null   bool   \n",
      " 12  浏览器           8631 non-null   int64  \n",
      " 13  用户页面访问持续时间    8631 non-null   float64\n",
      " 14  区域            8631 non-null   int64  \n",
      " 15  流量类型          8631 non-null   int64  \n",
      " 16  节假日           8631 non-null   float64\n",
      " 17  是否购买          8631 non-null   int64  \n",
      "dtypes: bool(1), float64(7), int64(8), object(2)\n",
      "memory usage: 1.1+ MB\n",
      "                访客类型    月份  产品相关页面访问持续时间  信息相关页面  用户相关页面  信息相关页面访问持续时间  \\\n",
      "0  Returning_Visitor   Dec    556.916667       0       0      0.000000   \n",
      "1  Returning_Visitor   Dec   2348.812500       5       0     39.833333   \n",
      "2        New_Visitor  June   1570.133333       6       0     89.800000   \n",
      "3  Returning_Visitor   Dec    821.682540       4       2    159.000000   \n",
      "4  Returning_Visitor   Jul    584.377778       5       2     38.577778   \n",
      "\n",
      "        退出率       跳出率  产品相关页面  网页价值  操作系统     周末  浏览器  用户页面访问持续时间  区域  流量类型  \\\n",
      "0  0.022436  0.010256      26   0.0     4  False    2        0.00   1     8   \n",
      "1  0.055167  0.020000      34   0.0     2  False    2        0.00   3     1   \n",
      "2  0.005357  0.000000      26   0.0     2   True    2        0.00   8     4   \n",
      "3  0.019343  0.000617      33   0.0     2  False    2       27.75   1     2   \n",
      "4  0.064352  0.000000       7   0.0     1   True    1        9.00   1     2   \n",
      "\n",
      "   节假日  是否购买  \n",
      "0  0.0     0  \n",
      "1  0.0     0  \n",
      "2  0.0     0  \n",
      "3  0.0     1  \n",
      "4  0.0     1  \n"
     ]
    }
   ],
   "source": [
    "# 了解数据的基本情况\n",
    "data_train.info()\n",
    "print(data_train.head())\n",
    "#data_train.head()会将excel表格第一行看作列名，并默认读取前五行"
   ]
  },
  {
   "cell_type": "code",
   "execution_count": 45,
   "metadata": {},
   "outputs": [
    {
     "data": {
      "image/png": "[encoded data removed]",
      "text/plain": [
       "<Figure size 432x288 with 1 Axes>"
      ]
     },
     "metadata": {},
     "output_type": "display_data"
    }
   ],
   "source": [
    "#绘图，用柱状图完成访客类型的可视化\n",
    "#设置画图的尺寸\n",
    "visitor_type=data_train[['访客类型']]#visitor_type.sort_values(by='访客类型', inplace=True)\n",
    "xx =visitor_type['访客类型'].unique()#使用unqiue，去除重复元素，并按元素从大到小返回一个新的无元素的元组或列表\n",
    "yy =visitor_type['访客类型'].value_counts()#使用value_counts，默认显示数字形式，默认排序，默认降序，默认删除NA\n",
    "plt.bar(xx, yy, width=0.3, facecolor='#9999ff')#绘制条形图\n",
    "a=np.arange(len(xx))#np.arange()返回一个有终点和起点的固定步长的排列\n",
    "for a,b in zip(a, yy):\n",
    "    plt.text(a, b, '%.2f'%b, ha='center', va='bottom', fontsize=14)#设置数字标签\n",
    "plt.xticks(xx,fontsize=12)\n",
    "plt.yticks(yy,fontsize=12)\n",
    "plt.title('按访客类型统计')#设置x、y轴标签与图形标题\n",
    "plt.savefig('/Users/yangzhaoyu/Desktop/1.png')\n",
    "plt.show()"
   ]
  },
  {
   "cell_type": "code",
   "execution_count": 46,
   "metadata": {},
   "outputs": [
    {
     "name": "stdout",
     "output_type": "stream",
     "text": [
      "回头客的购买率: 0.14018184285520424\n",
      "初次访客的购买率: 0.24189526184538654\n"
     ]
    }
   ],
   "source": [
    "#计算初次访客与回头客的购买率\n",
    "group=data_train.groupby('访客类型')\n",
    "#groupby()的作用是进行数据的分组以及分组后的组内运算\n",
    "New_V=group.get_group('New_Visitor')\n",
    "New_V_rate=len(New_V[New_V['是否购买']==1])/len(New_V)\n",
    "#1为购买，0为未购买，用户购买行为数据集中有体现\n",
    "Returning_V=group.get_group('Returning_Visitor')\n",
    "Returning_V_rate=len(Returning_V[Returning_V['是否购买']==1])/len(Returning_V)\n",
    "print('回头客的购买率:',Returning_V_rate)\n",
    "print('初次访客的购买率:',New_V_rate)"
   ]
  },
  {
   "cell_type": "code",
   "execution_count": 47,
   "metadata": {},
   "outputs": [
    {
     "data": {
      "image/png": "[encoded data removed]",
      "text/plain": [
       "<Figure size 432x288 with 1 Axes>"
      ]
     },
     "metadata": {},
     "output_type": "display_data"
    }
   ],
   "source": [
    "xx =['回头客','初次访客']#使用unqiue，去除重复元素，并按元素从大到小返回一个新的无元素的元组或列表\n",
    "yy =[Returning_V_rate,New_V_rate]#使用value_counts，默认显示数字形式，默认排序，默认降序，默认删除NA\n",
    "plt.bar(xx, yy, width=0.3, facecolor='#9999ff')#绘制条形图\n",
    "a=np.arange(len(xx))#np.arange()返回一个有终点和起点的固定步长的排列\n",
    "for a,b in zip(a, yy):\n",
    "    plt.text(a, b, '%.2f'%b, ha='center', va='bottom', fontsize=14)#设置数字标签\n",
    "plt.xticks(xx,fontsize=12)\n",
    "plt.yticks(yy,fontsize=12)\n",
    "plt.title('初次访客与回头客购买率对比')#设置x、y轴标签与图形标题\n",
    "plt.savefig('/Users/yangzhaoyu/Desktop/2.png')\n",
    "plt.show()"
   ]
  },
  {
   "cell_type": "code",
   "execution_count": 48,
   "metadata": {},
   "outputs": [
    {
     "name": "stdout",
     "output_type": "stream",
     "text": [
      "周末的购买率: 0.17365564874198322\n",
      "工作日的购买率: 0.14900060569351908\n"
     ]
    }
   ],
   "source": [
    "#计算工作日与周末的购买率,请参考计算初次访客和回头客的方法完成这部分的计算\n",
    "group=data_train.groupby('周末')\n",
    "weekends=group.get_group(True)\n",
    "weekends_rate=len(weekends[weekends['是否购买']==1])/len(weekends)\n",
    "workdays=group.get_group(False)\n",
    "workdays_rate=len(workdays[workdays['是否购买']==1])/len(workdays)\n",
    "print('周末的购买率:',weekends_rate)\n",
    "print('工作日的购买率:',workdays_rate)"
   ]
  },
  {
   "cell_type": "code",
   "execution_count": 49,
   "metadata": {},
   "outputs": [
    {
     "data": {
      "image/png": "[encoded data removed]",
      "text/plain": [
       "<Figure size 432x288 with 1 Axes>"
      ]
     },
     "metadata": {},
     "output_type": "display_data"
    }
   ],
   "source": [
    "xx =['周末','工作日']#使用unqiue，去除重复元素，并按元素从大到小返回一个新的无元素的元组或列表\n",
    "yy =[weekends_rate,workdays_rate]#使用value_counts，默认显示数字形式，默认排序，默认降序，默认删除NA\n",
    "plt.bar(xx, yy, width=0.3, facecolor='#9999ff')#绘制条形图\n",
    "a=np.arange(len(xx))#np.arange()返回一个有终点和起点的固定步长的排列\n",
    "for a,b in zip(a, yy):\n",
    "    plt.text(a, b, '%.2f'%b, ha='center', va='bottom', fontsize=14)#设置数字标签\n",
    "plt.xticks(xx,fontsize=12)\n",
    "plt.yticks(yy,fontsize=12)\n",
    "plt.title('周末与工作日购买率对比')#设置x、y轴标签与图形标题\n",
    "plt.savefig('/Users/yangzhaoyu/Desktop/3.png')\n",
    "plt.show()"
   ]
  },
  {
   "cell_type": "code",
   "execution_count": 50,
   "metadata": {},
   "outputs": [
    {
     "data": {
      "text/plain": [
       "2"
      ]
     },
     "execution_count": 50,
     "metadata": {},
     "output_type": "execute_result"
    }
   ],
   "source": [
    "sum(data_train[data_train['月份']=='Feb']['是否购买']==1)"
   ]
  },
  {
   "cell_type": "code",
   "execution_count": 51,
   "metadata": {},
   "outputs": [
    {
     "data": {
      "image/png": "[encoded data removed]",
      "text/plain": [
       "<Figure size 720x360 with 1 Axes>"
      ]
     },
     "metadata": {},
     "output_type": "display_data"
    },
    {
     "data": {
      "image/png": "[encoded data removed]",
      "text/plain": [
       "<Figure size 720x360 with 1 Axes>"
      ]
     },
     "metadata": {},
     "output_type": "display_data"
    }
   ],
   "source": [
    "#不同月份的访客量\n",
    "plt.figure(figsize=(10,5))\n",
    "#设置画图的尺寸\n",
    "xx = ['Jan','Feb','Mar','Apr','May','June','Jul','Aug','Sep','Oct','Nov','Dec']\n",
    "yy = []\n",
    "for i in range(len(xx)):\n",
    "    yy.append(len(data_train[data_train['月份']==xx[i]]))#append()在列表末尾添加一个元素\n",
    "plt.bar(xx,yy,width=0.3,facecolor='#9999ff')#绘制条形图\n",
    "a=np.arange(len(xx))\n",
    "for a,b in zip(a,yy):\n",
    "    plt.text(a,b,'%.2f'%b,ha='center',va='bottom',fontsize=14)\n",
    "#设置数字标签\n",
    "plt.xticks(xx,fontsize=12)\n",
    "plt.yticks(fontsize=12)\n",
    "plt.title('不同月份访客量')\n",
    "#设置x、y轴标签与图形标题\n",
    "plt.savefig('/Users/yangzhaoyu/Desktop/4.png')\n",
    "plt.show()\n",
    "\n",
    "\n",
    "#不同月份的购买量\n",
    "#请按照上部分内容自主完成\n",
    "plt.figure(figsize=(10,5))\n",
    "xx2=['Jan','Feb','Mar','Apr','May','June','Jul','Aug','Sep','Oct','Nov','Dec']\n",
    "yy2=[]\n",
    "for i in range(len(xx2)):\n",
    "    yy2.append(sum(data_train[data_train['月份']==xx2[i]]['是否购买']==1))\n",
    "plt.bar(xx2,yy2,width=0.3,facecolor='#9999ff')#设置条形图\n",
    "a=np.arange(len(xx2))\n",
    "for a,b in zip(a,yy2):\n",
    "    plt.text(a,b,'%.2f'%b,ha='center',va='bottom',fontsize=14)\n",
    "plt.xticks(xx,fontsize=12)\n",
    "plt.yticks(fontsize=12)\n",
    "plt.title('不同月份购买量')\n",
    "plt.savefig('/Users/yangzhaoyu/Desktop/5.png')\n",
    "plt.show()"
   ]
  },
  {
   "cell_type": "code",
   "execution_count": 53,
   "metadata": {},
   "outputs": [
    {
     "data": {
      "image/png": "[encoded data removed]",
      "text/plain": [
       "<Figure size 720x360 with 1 Axes>"
      ]
     },
     "metadata": {},
     "output_type": "display_data"
    },
    {
     "data": {
      "image/png": "[encoded data removed]",
      "text/plain": [
       "<Figure size 720x360 with 1 Axes>"
      ]
     },
     "metadata": {},
     "output_type": "display_data"
    }
   ],
   "source": [
    "#用分布图展示用户退出率和跳出率的分布情况\n",
    "plt.figure(figsize=(10,5))#设置画图的尺寸\n",
    "xx=data_train[['退出率']]\n",
    "sns.distplot(xx)#, color='b', rug=True)\n",
    "sns.distplot(xx, hist=False)#不显示直方图\n",
    "plt.title('用户退出率分布图')\n",
    "plt.savefig('/Users/yangzhaoyu/Desktop/6.png')\n",
    "plt.show()#plt.hist\n",
    "\n",
    "plt.figure(figsize=(10,5))\n",
    "xx2=data_train[['跳出率']]\n",
    "sns.distplot(xx2)\n",
    "sns.distplot(xx2, hist=False)\n",
    "plt.title('用户跳出率分布图')\n",
    "plt.savefig('/Users/yangzhaoyu/Desktop/7.png')\n",
    "plt.show()"
   ]
  },
  {
   "cell_type": "code",
   "execution_count": 11,
   "metadata": {},
   "outputs": [
    {
     "name": "stdout",
     "output_type": "stream",
     "text": [
      "   访客类型  月份  产品相关页面访问持续时间  信息相关页面  用户相关页面  信息相关页面访问持续时间       退出率       跳出率  \\\n",
      "0     2   1    556.916667       0       0      0.000000  0.022436  0.010256   \n",
      "1     2   1   2348.812500       5       0     39.833333  0.055167  0.020000   \n",
      "2     0   4   1570.133333       6       0     89.800000  0.005357  0.000000   \n",
      "3     2   1    821.682540       4       2    159.000000  0.019343  0.000617   \n",
      "4     2   3    584.377778       5       2     38.577778  0.064352  0.000000   \n",
      "\n",
      "   产品相关页面  网页价值  操作系统  周末  浏览器  用户页面访问持续时间  区域  流量类型  节假日  是否购买  \n",
      "0      26   0.0     4   0    2        0.00   1     8  0.0     0  \n",
      "1      34   0.0     2   0    2        0.00   3     1  0.0     0  \n",
      "2      26   0.0     2   1    2        0.00   8     4  0.0     0  \n",
      "3      33   0.0     2   0    2       27.75   1     2  0.0     1  \n",
      "4       7   0.0     1   1    1        9.00   1     2  0.0     1  \n"
     ]
    }
   ],
   "source": [
    "#由于数据集中访客类型，月份，周末这三块是字符，为完成建模，首先需要用LabelEncoder将其编码。\n",
    "from sklearn.preprocessing import LabelEncoder\n",
    "label = LabelEncoder()\n",
    "data_train['访客类型']= label.fit_transform(data_train['访客类型'])#这一步完成后会将New_Vistor设置成0，Returning_Vistor设置成2，Others设置成1\n",
    "data_train['月份']= label.fit_transform(data_train['月份'])#根据每个月份的英文字母顺序，将其排序，从0到11\n",
    "data_train['周末']= label.fit_transform(data_train['周末'])#是周末就是1，不是周末就是0\n",
    "print(data_train.head())"
   ]
  },
  {
   "cell_type": "code",
   "execution_count": 12,
   "metadata": {},
   "outputs": [
    {
     "data": {
      "text/html": [
       "<div>\n",
       "<style scoped>\n",
       "    .dataframe tbody tr th:only-of-type {\n",
       "        vertical-align: middle;\n",
       "    }\n",
       "\n",
       "    .dataframe tbody tr th {\n",
       "        vertical-align: top;\n",
       "    }\n",
       "\n",
       "    .dataframe thead th {\n",
       "        text-align: right;\n",
       "    }\n",
       "</style>\n",
       "<table border=\"1\" class=\"dataframe\">\n",
       "  <thead>\n",
       "    <tr style=\"text-align: right;\">\n",
       "      <th></th>\n",
       "      <th>访客类型</th>\n",
       "      <th>月份</th>\n",
       "      <th>产品相关页面访问持续时间</th>\n",
       "      <th>信息相关页面</th>\n",
       "      <th>用户相关页面</th>\n",
       "      <th>信息相关页面访问持续时间</th>\n",
       "      <th>退出率</th>\n",
       "      <th>跳出率</th>\n",
       "      <th>产品相关页面</th>\n",
       "      <th>网页价值</th>\n",
       "      <th>操作系统</th>\n",
       "      <th>周末</th>\n",
       "      <th>浏览器</th>\n",
       "      <th>用户页面访问持续时间</th>\n",
       "      <th>区域</th>\n",
       "      <th>流量类型</th>\n",
       "      <th>节假日</th>\n",
       "      <th>是否购买</th>\n",
       "    </tr>\n",
       "  </thead>\n",
       "  <tbody>\n",
       "    <tr>\n",
       "      <th>count</th>\n",
       "      <td>8631.000000</td>\n",
       "      <td>8631.000000</td>\n",
       "      <td>8631.000000</td>\n",
       "      <td>8631.000000</td>\n",
       "      <td>8631.000000</td>\n",
       "      <td>8631.000000</td>\n",
       "      <td>8631.000000</td>\n",
       "      <td>8631.000000</td>\n",
       "      <td>8631.000000</td>\n",
       "      <td>8631.000000</td>\n",
       "      <td>8631.000000</td>\n",
       "      <td>8631.000000</td>\n",
       "      <td>8631.000000</td>\n",
       "      <td>8631.000000</td>\n",
       "      <td>8631.000000</td>\n",
       "      <td>8631.000000</td>\n",
       "      <td>8631.000000</td>\n",
       "      <td>8631.000000</td>\n",
       "    </tr>\n",
       "    <tr>\n",
       "      <th>mean</th>\n",
       "      <td>1.714402</td>\n",
       "      <td>5.183640</td>\n",
       "      <td>1178.095315</td>\n",
       "      <td>2.309929</td>\n",
       "      <td>0.497741</td>\n",
       "      <td>81.949926</td>\n",
       "      <td>0.042785</td>\n",
       "      <td>0.021848</td>\n",
       "      <td>31.281891</td>\n",
       "      <td>5.762836</td>\n",
       "      <td>2.127216</td>\n",
       "      <td>0.234851</td>\n",
       "      <td>2.360908</td>\n",
       "      <td>33.396601</td>\n",
       "      <td>3.160584</td>\n",
       "      <td>4.146333</td>\n",
       "      <td>0.061522</td>\n",
       "      <td>0.154791</td>\n",
       "    </tr>\n",
       "    <tr>\n",
       "      <th>std</th>\n",
       "      <td>0.694874</td>\n",
       "      <td>2.350216</td>\n",
       "      <td>1906.680808</td>\n",
       "      <td>3.316519</td>\n",
       "      <td>1.252284</td>\n",
       "      <td>179.167643</td>\n",
       "      <td>0.048030</td>\n",
       "      <td>0.047833</td>\n",
       "      <td>43.942097</td>\n",
       "      <td>17.771647</td>\n",
       "      <td>0.905776</td>\n",
       "      <td>0.423930</td>\n",
       "      <td>1.719117</td>\n",
       "      <td>136.636499</td>\n",
       "      <td>2.388012</td>\n",
       "      <td>4.074056</td>\n",
       "      <td>0.198678</td>\n",
       "      <td>0.361726</td>\n",
       "    </tr>\n",
       "    <tr>\n",
       "      <th>min</th>\n",
       "      <td>0.000000</td>\n",
       "      <td>0.000000</td>\n",
       "      <td>0.000000</td>\n",
       "      <td>0.000000</td>\n",
       "      <td>0.000000</td>\n",
       "      <td>0.000000</td>\n",
       "      <td>0.000000</td>\n",
       "      <td>0.000000</td>\n",
       "      <td>0.000000</td>\n",
       "      <td>0.000000</td>\n",
       "      <td>1.000000</td>\n",
       "      <td>0.000000</td>\n",
       "      <td>1.000000</td>\n",
       "      <td>0.000000</td>\n",
       "      <td>1.000000</td>\n",
       "      <td>1.000000</td>\n",
       "      <td>0.000000</td>\n",
       "      <td>0.000000</td>\n",
       "    </tr>\n",
       "    <tr>\n",
       "      <th>25%</th>\n",
       "      <td>2.000000</td>\n",
       "      <td>5.000000</td>\n",
       "      <td>185.000000</td>\n",
       "      <td>0.000000</td>\n",
       "      <td>0.000000</td>\n",
       "      <td>0.000000</td>\n",
       "      <td>0.014286</td>\n",
       "      <td>0.000000</td>\n",
       "      <td>7.000000</td>\n",
       "      <td>0.000000</td>\n",
       "      <td>2.000000</td>\n",
       "      <td>0.000000</td>\n",
       "      <td>2.000000</td>\n",
       "      <td>0.000000</td>\n",
       "      <td>1.000000</td>\n",
       "      <td>2.000000</td>\n",
       "      <td>0.000000</td>\n",
       "      <td>0.000000</td>\n",
       "    </tr>\n",
       "    <tr>\n",
       "      <th>50%</th>\n",
       "      <td>2.000000</td>\n",
       "      <td>6.000000</td>\n",
       "      <td>590.516667</td>\n",
       "      <td>1.000000</td>\n",
       "      <td>0.000000</td>\n",
       "      <td>8.000000</td>\n",
       "      <td>0.025289</td>\n",
       "      <td>0.003047</td>\n",
       "      <td>18.000000</td>\n",
       "      <td>0.000000</td>\n",
       "      <td>2.000000</td>\n",
       "      <td>0.000000</td>\n",
       "      <td>2.000000</td>\n",
       "      <td>0.000000</td>\n",
       "      <td>3.000000</td>\n",
       "      <td>2.000000</td>\n",
       "      <td>0.000000</td>\n",
       "      <td>0.000000</td>\n",
       "    </tr>\n",
       "    <tr>\n",
       "      <th>75%</th>\n",
       "      <td>2.000000</td>\n",
       "      <td>7.000000</td>\n",
       "      <td>1448.840476</td>\n",
       "      <td>4.000000</td>\n",
       "      <td>0.000000</td>\n",
       "      <td>93.500000</td>\n",
       "      <td>0.050000</td>\n",
       "      <td>0.017143</td>\n",
       "      <td>37.000000</td>\n",
       "      <td>0.000000</td>\n",
       "      <td>3.000000</td>\n",
       "      <td>0.000000</td>\n",
       "      <td>2.000000</td>\n",
       "      <td>0.000000</td>\n",
       "      <td>4.000000</td>\n",
       "      <td>4.000000</td>\n",
       "      <td>0.000000</td>\n",
       "      <td>0.000000</td>\n",
       "    </tr>\n",
       "    <tr>\n",
       "      <th>max</th>\n",
       "      <td>2.000000</td>\n",
       "      <td>9.000000</td>\n",
       "      <td>63973.522230</td>\n",
       "      <td>27.000000</td>\n",
       "      <td>16.000000</td>\n",
       "      <td>3398.750000</td>\n",
       "      <td>0.200000</td>\n",
       "      <td>0.200000</td>\n",
       "      <td>686.000000</td>\n",
       "      <td>360.953384</td>\n",
       "      <td>8.000000</td>\n",
       "      <td>1.000000</td>\n",
       "      <td>13.000000</td>\n",
       "      <td>2549.375000</td>\n",
       "      <td>9.000000</td>\n",
       "      <td>20.000000</td>\n",
       "      <td>1.000000</td>\n",
       "      <td>1.000000</td>\n",
       "    </tr>\n",
       "  </tbody>\n",
       "</table>\n",
       "</div>"
      ],
      "text/plain": [
       "              访客类型           月份  产品相关页面访问持续时间       信息相关页面       用户相关页面  \\\n",
       "count  8631.000000  8631.000000   8631.000000  8631.000000  8631.000000   \n",
       "mean      1.714402     5.183640   1178.095315     2.309929     0.497741   \n",
       "std       0.694874     2.350216   1906.680808     3.316519     1.252284   \n",
       "min       0.000000     0.000000      0.000000     0.000000     0.000000   \n",
       "25%       2.000000     5.000000    185.000000     0.000000     0.000000   \n",
       "50%       2.000000     6.000000    590.516667     1.000000     0.000000   \n",
       "75%       2.000000     7.000000   1448.840476     4.000000     0.000000   \n",
       "max       2.000000     9.000000  63973.522230    27.000000    16.000000   \n",
       "\n",
       "       信息相关页面访问持续时间          退出率          跳出率       产品相关页面         网页价值  \\\n",
       "count   8631.000000  8631.000000  8631.000000  8631.000000  8631.000000   \n",
       "mean      81.949926     0.042785     0.021848    31.281891     5.762836   \n",
       "std      179.167643     0.048030     0.047833    43.942097    17.771647   \n",
       "min        0.000000     0.000000     0.000000     0.000000     0.000000   \n",
       "25%        0.000000     0.014286     0.000000     7.000000     0.000000   \n",
       "50%        8.000000     0.025289     0.003047    18.000000     0.000000   \n",
       "75%       93.500000     0.050000     0.017143    37.000000     0.000000   \n",
       "max     3398.750000     0.200000     0.200000   686.000000   360.953384   \n",
       "\n",
       "              操作系统           周末          浏览器   用户页面访问持续时间           区域  \\\n",
       "count  8631.000000  8631.000000  8631.000000  8631.000000  8631.000000   \n",
       "mean      2.127216     0.234851     2.360908    33.396601     3.160584   \n",
       "std       0.905776     0.423930     1.719117   136.636499     2.388012   \n",
       "min       1.000000     0.000000     1.000000     0.000000     1.000000   \n",
       "25%       2.000000     0.000000     2.000000     0.000000     1.000000   \n",
       "50%       2.000000     0.000000     2.000000     0.000000     3.000000   \n",
       "75%       3.000000     0.000000     2.000000     0.000000     4.000000   \n",
       "max       8.000000     1.000000    13.000000  2549.375000     9.000000   \n",
       "\n",
       "              流量类型          节假日         是否购买  \n",
       "count  8631.000000  8631.000000  8631.000000  \n",
       "mean      4.146333     0.061522     0.154791  \n",
       "std       4.074056     0.198678     0.361726  \n",
       "min       1.000000     0.000000     0.000000  \n",
       "25%       2.000000     0.000000     0.000000  \n",
       "50%       2.000000     0.000000     0.000000  \n",
       "75%       4.000000     0.000000     0.000000  \n",
       "max      20.000000     1.000000     1.000000  "
      ]
     },
     "execution_count": 12,
     "metadata": {},
     "output_type": "execute_result"
    }
   ],
   "source": [
    "data_train.describe()"
   ]
  },
  {
   "cell_type": "code",
   "execution_count": 13,
   "metadata": {},
   "outputs": [
    {
     "data": {
      "text/html": [
       "<div>\n",
       "<style scoped>\n",
       "    .dataframe tbody tr th:only-of-type {\n",
       "        vertical-align: middle;\n",
       "    }\n",
       "\n",
       "    .dataframe tbody tr th {\n",
       "        vertical-align: top;\n",
       "    }\n",
       "\n",
       "    .dataframe thead th {\n",
       "        text-align: right;\n",
       "    }\n",
       "</style>\n",
       "<table border=\"1\" class=\"dataframe\">\n",
       "  <thead>\n",
       "    <tr style=\"text-align: right;\">\n",
       "      <th></th>\n",
       "      <th>产品相关页面访问持续时间</th>\n",
       "      <th>信息相关页面访问持续时间</th>\n",
       "      <th>用户页面访问持续时间</th>\n",
       "      <th>访客类型</th>\n",
       "      <th>退出率</th>\n",
       "      <th>跳出率</th>\n",
       "    </tr>\n",
       "  </thead>\n",
       "  <tbody>\n",
       "    <tr>\n",
       "      <th>0</th>\n",
       "      <td>0.008705</td>\n",
       "      <td>0.000000</td>\n",
       "      <td>0.000000</td>\n",
       "      <td>2</td>\n",
       "      <td>0.022436</td>\n",
       "      <td>0.010256</td>\n",
       "    </tr>\n",
       "    <tr>\n",
       "      <th>1</th>\n",
       "      <td>0.036715</td>\n",
       "      <td>0.011720</td>\n",
       "      <td>0.000000</td>\n",
       "      <td>2</td>\n",
       "      <td>0.055167</td>\n",
       "      <td>0.020000</td>\n",
       "    </tr>\n",
       "    <tr>\n",
       "      <th>2</th>\n",
       "      <td>0.024543</td>\n",
       "      <td>0.026421</td>\n",
       "      <td>0.000000</td>\n",
       "      <td>0</td>\n",
       "      <td>0.005357</td>\n",
       "      <td>0.000000</td>\n",
       "    </tr>\n",
       "    <tr>\n",
       "      <th>3</th>\n",
       "      <td>0.010043</td>\n",
       "      <td>0.000000</td>\n",
       "      <td>0.000000</td>\n",
       "      <td>2</td>\n",
       "      <td>0.057143</td>\n",
       "      <td>0.028571</td>\n",
       "    </tr>\n",
       "    <tr>\n",
       "      <th>4</th>\n",
       "      <td>0.183348</td>\n",
       "      <td>0.000000</td>\n",
       "      <td>0.030047</td>\n",
       "      <td>2</td>\n",
       "      <td>0.045246</td>\n",
       "      <td>0.032877</td>\n",
       "    </tr>\n",
       "    <tr>\n",
       "      <th>...</th>\n",
       "      <td>...</td>\n",
       "      <td>...</td>\n",
       "      <td>...</td>\n",
       "      <td>...</td>\n",
       "      <td>...</td>\n",
       "      <td>...</td>\n",
       "    </tr>\n",
       "    <tr>\n",
       "      <th>7290</th>\n",
       "      <td>0.006292</td>\n",
       "      <td>0.009268</td>\n",
       "      <td>0.000000</td>\n",
       "      <td>2</td>\n",
       "      <td>0.002500</td>\n",
       "      <td>0.000000</td>\n",
       "    </tr>\n",
       "    <tr>\n",
       "      <th>7291</th>\n",
       "      <td>0.032986</td>\n",
       "      <td>0.078097</td>\n",
       "      <td>0.014003</td>\n",
       "      <td>2</td>\n",
       "      <td>0.009762</td>\n",
       "      <td>0.003614</td>\n",
       "    </tr>\n",
       "    <tr>\n",
       "      <th>7292</th>\n",
       "      <td>0.047494</td>\n",
       "      <td>0.000000</td>\n",
       "      <td>0.000000</td>\n",
       "      <td>2</td>\n",
       "      <td>0.038333</td>\n",
       "      <td>0.017535</td>\n",
       "    </tr>\n",
       "    <tr>\n",
       "      <th>7293</th>\n",
       "      <td>0.046106</td>\n",
       "      <td>0.009636</td>\n",
       "      <td>0.004315</td>\n",
       "      <td>2</td>\n",
       "      <td>0.027165</td>\n",
       "      <td>0.015909</td>\n",
       "    </tr>\n",
       "    <tr>\n",
       "      <th>7294</th>\n",
       "      <td>0.075303</td>\n",
       "      <td>0.098320</td>\n",
       "      <td>0.013337</td>\n",
       "      <td>2</td>\n",
       "      <td>0.009553</td>\n",
       "      <td>0.002685</td>\n",
       "    </tr>\n",
       "  </tbody>\n",
       "</table>\n",
       "<p>7295 rows × 6 columns</p>\n",
       "</div>"
      ],
      "text/plain": [
       "      产品相关页面访问持续时间  信息相关页面访问持续时间  用户页面访问持续时间  访客类型       退出率       跳出率\n",
       "0         0.008705      0.000000    0.000000     2  0.022436  0.010256\n",
       "1         0.036715      0.011720    0.000000     2  0.055167  0.020000\n",
       "2         0.024543      0.026421    0.000000     0  0.005357  0.000000\n",
       "3         0.010043      0.000000    0.000000     2  0.057143  0.028571\n",
       "4         0.183348      0.000000    0.030047     2  0.045246  0.032877\n",
       "...            ...           ...         ...   ...       ...       ...\n",
       "7290      0.006292      0.009268    0.000000     2  0.002500  0.000000\n",
       "7291      0.032986      0.078097    0.014003     2  0.009762  0.003614\n",
       "7292      0.047494      0.000000    0.000000     2  0.038333  0.017535\n",
       "7293      0.046106      0.009636    0.004315     2  0.027165  0.015909\n",
       "7294      0.075303      0.098320    0.013337     2  0.009553  0.002685\n",
       "\n",
       "[7295 rows x 6 columns]"
      ]
     },
     "execution_count": 13,
     "metadata": {},
     "output_type": "execute_result"
    }
   ],
   "source": [
    "#找到没有购买的客户数据，对其中的大一点数值型变量进行min,max规模化，即将每个数字-减去其所属变量的最小值，然后除以所属变量最大值最小值之差。\n",
    "#规模化的目的是为了让所有变量的数值都统一在一个规模里，这样建模更加精确\n",
    "data_train2=data_train.loc[data_train[\"是否购买\"]==0]#提取所有未购买的用户数据\n",
    "data_train2=data_train2.reset_index(drop='index')\n",
    "data_use=data_train2[['产品相关页面访问持续时间','信息相关页面访问持续时间','用户页面访问持续时间']]\n",
    "scaler=preprocessing.MinMaxScaler()\n",
    "data2=scaler.fit_transform(data_use)\n",
    "data=pd.DataFrame(data2,columns=['产品相关页面访问持续时间','信息相关页面访问持续时间','用户页面访问持续时间'])\n",
    "data=pd.concat([data,data_train2[['访客类型','退出率','跳出率']]],axis=1)\n",
    "data"
   ]
  },
  {
   "cell_type": "code",
   "execution_count": 14,
   "metadata": {},
   "outputs": [
    {
     "name": "stdout",
     "output_type": "stream",
     "text": [
      "      产品相关页面访问持续时间  信息相关页面访问持续时间  用户页面访问持续时间  访客类型       退出率       跳出率  labels\n",
      "0         0.008705      0.000000    0.000000     2  0.022436  0.010256       2\n",
      "1         0.036715      0.011720    0.000000     2  0.055167  0.020000       2\n",
      "2         0.024543      0.026421    0.000000     0  0.005357  0.000000       1\n",
      "3         0.010043      0.000000    0.000000     2  0.057143  0.028571       2\n",
      "4         0.183348      0.000000    0.030047     2  0.045246  0.032877       2\n",
      "...            ...           ...         ...   ...       ...       ...     ...\n",
      "7290      0.006292      0.009268    0.000000     2  0.002500  0.000000       2\n",
      "7291      0.032986      0.078097    0.014003     2  0.009762  0.003614       2\n",
      "7292      0.047494      0.000000    0.000000     2  0.038333  0.017535       2\n",
      "7293      0.046106      0.009636    0.004315     2  0.027165  0.015909       2\n",
      "7294      0.075303      0.098320    0.013337     2  0.009553  0.002685       2\n",
      "\n",
      "[7295 rows x 7 columns]\n"
     ]
    }
   ],
   "source": [
    "#对数据进行k=4的K—Means聚类，也就是分成4个类，并且设置label变量标注其所属类\n",
    "model_kmeans=KMeans(n_clusters=4 ,random_state=9)\n",
    "model_kmeans.fit(data)\n",
    "Kmeans_labels=pd.DataFrame(model_kmeans.labels_,columns=['labels'])\n",
    "kmeans_data=pd.concat((data,Kmeans_labels),axis=1)\n",
    "print(kmeans_data)"
   ]
  },
  {
   "cell_type": "code",
   "execution_count": 15,
   "metadata": {},
   "outputs": [
    {
     "data": {
      "text/html": [
       "<div>\n",
       "<style scoped>\n",
       "    .dataframe tbody tr th:only-of-type {\n",
       "        vertical-align: middle;\n",
       "    }\n",
       "\n",
       "    .dataframe tbody tr th {\n",
       "        vertical-align: top;\n",
       "    }\n",
       "\n",
       "    .dataframe thead th {\n",
       "        text-align: right;\n",
       "    }\n",
       "</style>\n",
       "<table border=\"1\" class=\"dataframe\">\n",
       "  <thead>\n",
       "    <tr style=\"text-align: right;\">\n",
       "      <th></th>\n",
       "      <th>访客类型</th>\n",
       "      <th>产品相关页面访问持续时间</th>\n",
       "      <th>信息相关页面访问持续时间</th>\n",
       "      <th>用户页面访问持续时间</th>\n",
       "      <th>退出率</th>\n",
       "      <th>跳出率</th>\n",
       "    </tr>\n",
       "  </thead>\n",
       "  <tbody>\n",
       "    <tr>\n",
       "      <th>count</th>\n",
       "      <td>1336.000000</td>\n",
       "      <td>1336.000000</td>\n",
       "      <td>1336.000000</td>\n",
       "      <td>1336.000000</td>\n",
       "      <td>1336.000000</td>\n",
       "      <td>1336.000000</td>\n",
       "    </tr>\n",
       "    <tr>\n",
       "      <th>mean</th>\n",
       "      <td>1.555389</td>\n",
       "      <td>1794.509725</td>\n",
       "      <td>122.380807</td>\n",
       "      <td>56.532193</td>\n",
       "      <td>0.019575</td>\n",
       "      <td>0.004944</td>\n",
       "    </tr>\n",
       "    <tr>\n",
       "      <th>std</th>\n",
       "      <td>0.826482</td>\n",
       "      <td>2211.142623</td>\n",
       "      <td>205.547079</td>\n",
       "      <td>172.851200</td>\n",
       "      <td>0.015736</td>\n",
       "      <td>0.010467</td>\n",
       "    </tr>\n",
       "    <tr>\n",
       "      <th>min</th>\n",
       "      <td>0.000000</td>\n",
       "      <td>0.000000</td>\n",
       "      <td>0.000000</td>\n",
       "      <td>0.000000</td>\n",
       "      <td>0.000000</td>\n",
       "      <td>0.000000</td>\n",
       "    </tr>\n",
       "    <tr>\n",
       "      <th>25%</th>\n",
       "      <td>2.000000</td>\n",
       "      <td>535.750000</td>\n",
       "      <td>0.000000</td>\n",
       "      <td>0.000000</td>\n",
       "      <td>0.009318</td>\n",
       "      <td>0.000000</td>\n",
       "    </tr>\n",
       "    <tr>\n",
       "      <th>50%</th>\n",
       "      <td>2.000000</td>\n",
       "      <td>1088.848810</td>\n",
       "      <td>53.400000</td>\n",
       "      <td>0.000000</td>\n",
       "      <td>0.015874</td>\n",
       "      <td>0.000000</td>\n",
       "    </tr>\n",
       "    <tr>\n",
       "      <th>75%</th>\n",
       "      <td>2.000000</td>\n",
       "      <td>2193.660101</td>\n",
       "      <td>152.125000</td>\n",
       "      <td>14.500000</td>\n",
       "      <td>0.025000</td>\n",
       "      <td>0.006452</td>\n",
       "    </tr>\n",
       "    <tr>\n",
       "      <th>max</th>\n",
       "      <td>2.000000</td>\n",
       "      <td>27009.859430</td>\n",
       "      <td>2086.750000</td>\n",
       "      <td>1665.066667</td>\n",
       "      <td>0.200000</td>\n",
       "      <td>0.200000</td>\n",
       "    </tr>\n",
       "  </tbody>\n",
       "</table>\n",
       "</div>"
      ],
      "text/plain": [
       "              访客类型  产品相关页面访问持续时间  信息相关页面访问持续时间   用户页面访问持续时间          退出率  \\\n",
       "count  1336.000000   1336.000000   1336.000000  1336.000000  1336.000000   \n",
       "mean      1.555389   1794.509725    122.380807    56.532193     0.019575   \n",
       "std       0.826482   2211.142623    205.547079   172.851200     0.015736   \n",
       "min       0.000000      0.000000      0.000000     0.000000     0.000000   \n",
       "25%       2.000000    535.750000      0.000000     0.000000     0.009318   \n",
       "50%       2.000000   1088.848810     53.400000     0.000000     0.015874   \n",
       "75%       2.000000   2193.660101    152.125000    14.500000     0.025000   \n",
       "max       2.000000  27009.859430   2086.750000  1665.066667     0.200000   \n",
       "\n",
       "               跳出率  \n",
       "count  1336.000000  \n",
       "mean      0.004944  \n",
       "std       0.010467  \n",
       "min       0.000000  \n",
       "25%       0.000000  \n",
       "50%       0.000000  \n",
       "75%       0.006452  \n",
       "max       0.200000  "
      ]
     },
     "execution_count": 15,
     "metadata": {},
     "output_type": "execute_result"
    }
   ],
   "source": [
    "data_train.loc[data_train[\"是否购买\"]==1][['访客类型','产品相关页面访问持续时间','信息相关页面访问持续时间','用户页面访问持续时间','退出率','跳出率']].describe()"
   ]
  },
  {
   "cell_type": "code",
   "execution_count": 16,
   "metadata": {},
   "outputs": [
    {
     "name": "stdout",
     "output_type": "stream",
     "text": [
      "        访客类型  产品相关页面访问持续时间  信息相关页面访问持续时间  用户页面访问持续时间         退出率         跳出率\n",
      "count  602.0    602.000000    602.000000  602.000000  602.000000  602.000000\n",
      "mean     2.0     51.454784      0.664618    0.056811    0.185867    0.177777\n",
      "std      0.0    197.284581      8.724488    1.393888    0.025666    0.039387\n",
      "min      2.0      0.000000      0.000000    0.000000    0.100000    0.064286\n",
      "25%      2.0      0.000000      0.000000    0.000000    0.180000    0.166667\n",
      "50%      2.0      0.000000      0.000000    0.000000    0.200000    0.200000\n",
      "75%      2.0      4.750000      0.000000    0.000000    0.200000    0.200000\n",
      "max      2.0   2251.280000    180.133333   34.200000    0.200000    0.200000\n"
     ]
    },
    {
     "data": {
      "text/plain": [
       "2    602\n",
       "Name: 访客类型, dtype: int64"
      ]
     },
     "execution_count": 16,
     "metadata": {},
     "output_type": "execute_result"
    }
   ],
   "source": [
    "print(data_train2.loc[kmeans_data[kmeans_data['labels']==0].index][['访客类型','产品相关页面访问持续时间','信息相关页面访问持续时间','用户页面访问持续时间','退出率','跳出率']].describe())\n",
    "data_train2.loc[kmeans_data[kmeans_data['labels']==0].index][['访客类型','产品相关页面访问持续时间','信息相关页面访问持续时间','用户页面访问持续时间','退出率','跳出率']]['访客类型'].value_counts()"
   ]
  },
  {
   "cell_type": "code",
   "execution_count": 17,
   "metadata": {},
   "outputs": [
    {
     "name": "stdout",
     "output_type": "stream",
     "text": [
      "        访客类型  产品相关页面访问持续时间  信息相关页面访问持续时间   用户页面访问持续时间         退出率         跳出率\n",
      "count  912.0    912.000000    912.000000   912.000000  912.000000  912.000000\n",
      "mean     0.0    569.221235     96.036619    19.017758    0.022201    0.005712\n",
      "std      0.0    785.971636    166.523333    92.886109    0.029331    0.027126\n",
      "min      0.0      0.000000      0.000000     0.000000    0.000000    0.000000\n",
      "25%      0.0    139.408333      0.000000     0.000000    0.007407    0.000000\n",
      "50%      0.0    338.670000     53.190476     0.000000    0.014286    0.000000\n",
      "75%      0.0    687.413636    122.200000     0.000000    0.025000    0.000000\n",
      "max      0.0  12983.787710   1946.000000  1779.166667    0.200000    0.200000\n"
     ]
    },
    {
     "data": {
      "text/plain": [
       "0    912\n",
       "Name: 访客类型, dtype: int64"
      ]
     },
     "execution_count": 17,
     "metadata": {},
     "output_type": "execute_result"
    }
   ],
   "source": [
    "print(data_train2.loc[kmeans_data[kmeans_data['labels']==1].index][['访客类型','产品相关页面访问持续时间','信息相关页面访问持续时间','用户页面访问持续时间','退出率','跳出率']].describe())\n",
    "data_train2.loc[kmeans_data[kmeans_data['labels']==1].index][['访客类型','产品相关页面访问持续时间','信息相关页面访问持续时间','用户页面访问持续时间','退出率','跳出率']]['访客类型'].value_counts()"
   ]
  },
  {
   "cell_type": "code",
   "execution_count": 18,
   "metadata": {},
   "outputs": [
    {
     "name": "stdout",
     "output_type": "stream",
     "text": [
      "         访客类型  产品相关页面访问持续时间  信息相关页面访问持续时间   用户页面访问持续时间          退出率  \\\n",
      "count  5734.0   5734.000000   5734.000000  5734.000000  5734.000000   \n",
      "mean      2.0   1255.392686     79.014892    33.967194     0.036103   \n",
      "std       0.0   1980.909200    180.151397   139.545416     0.027579   \n",
      "min       2.0      0.000000      0.000000     0.000000     0.000000   \n",
      "25%       2.0    236.250000      0.000000     0.000000     0.016534   \n",
      "50%       2.0    660.051190      3.000000     0.000000     0.028283   \n",
      "75%       2.0   1573.626042     87.000000     0.000000     0.048619   \n",
      "max       2.0  63973.522230   3398.750000  2549.375000     0.200000   \n",
      "\n",
      "               跳出率  \n",
      "count  5734.000000  \n",
      "mean      0.011698  \n",
      "std       0.017321  \n",
      "min       0.000000  \n",
      "25%       0.000000  \n",
      "50%       0.004332  \n",
      "75%       0.016667  \n",
      "max       0.100000  \n"
     ]
    },
    {
     "data": {
      "text/plain": [
       "2    5734\n",
       "Name: 访客类型, dtype: int64"
      ]
     },
     "execution_count": 18,
     "metadata": {},
     "output_type": "execute_result"
    }
   ],
   "source": [
    "print(data_train2.loc[kmeans_data[kmeans_data['labels']==2].index][['访客类型','产品相关页面访问持续时间','信息相关页面访问持续时间','用户页面访问持续时间','退出率','跳出率']].describe())\n",
    "data_train2.loc[kmeans_data[kmeans_data['labels']==2].index][['访客类型','产品相关页面访问持续时间','信息相关页面访问持续时间','用户页面访问持续时间','退出率','跳出率']]['访客类型'].value_counts()"
   ]
  },
  {
   "cell_type": "code",
   "execution_count": 19,
   "metadata": {},
   "outputs": [
    {
     "name": "stdout",
     "output_type": "stream",
     "text": [
      "       访客类型  产品相关页面访问持续时间  信息相关页面访问持续时间  用户页面访问持续时间        退出率        跳出率\n",
      "count  47.0     47.000000     47.000000   47.000000  47.000000  47.000000\n",
      "mean    1.0    471.243820     58.556738   12.186525   0.084383   0.056454\n",
      "std     0.0   1449.764147    248.544338   54.444138   0.076631   0.090055\n",
      "min     1.0      0.000000      0.000000    0.000000   0.002041   0.000000\n",
      "25%     1.0      0.000000      0.000000    0.000000   0.023611   0.000000\n",
      "50%     1.0     70.500000      0.000000    0.000000   0.050000   0.000000\n",
      "75%     1.0    386.833333      3.500000    0.000000   0.200000   0.200000\n",
      "max     1.0   9630.209524   1652.000000  302.000000   0.200000   0.200000\n"
     ]
    },
    {
     "data": {
      "text/plain": [
       "1    47\n",
       "Name: 访客类型, dtype: int64"
      ]
     },
     "execution_count": 19,
     "metadata": {},
     "output_type": "execute_result"
    }
   ],
   "source": [
    "print(data_train2.loc[kmeans_data[kmeans_data['labels']==3].index][['访客类型','产品相关页面访问持续时间','信息相关页面访问持续时间','用户页面访问持续时间','退出率','跳出率']].describe())\n",
    "data_train2.loc[kmeans_data[kmeans_data['labels']==3].index][['访客类型','产品相关页面访问持续时间','信息相关页面访问持续时间','用户页面访问持续时间','退出率','跳出率']]['访客类型'].value_counts()"
   ]
  },
  {
   "cell_type": "code",
   "execution_count": 20,
   "metadata": {},
   "outputs": [
    {
     "data": {
      "image/png": "[encoded data removed]",
      "text/plain": [
       "<Figure size 432x288 with 1 Axes>"
      ]
     },
     "metadata": {},
     "output_type": "display_data"
    }
   ],
   "source": [
    "#根据每个k值对应的SSE，即每个数值到其所属类别中心点的距离平方和。找出最优的k，即过了该点之后SSE的值下降非常缓慢。\n",
    "data=data.fillna(0)\n",
    "SSE=[]\n",
    "for k in range(1,9):\n",
    "    estimator=KMeans(n_clusters=k)\n",
    "    estimator.fit(data.values)\n",
    "    #这里需要将data转化为array的形式才可以fit哦~\n",
    "    SSE.append(estimator.inertia_)\n",
    "\n",
    "X=range(1,9)\n",
    "#可视化呈现\n",
    "plt.xlabel('k')\n",
    "plt.ylabel('SSE')\n",
    "plt.plot(X,SSE,'o-')\n",
    "plt.show()\n",
    "#根据可视化结果，如果你觉得k=4并不是最优的，可以用最优的k值重新聚类"
   ]
  },
  {
   "cell_type": "code",
   "execution_count": 21,
   "metadata": {},
   "outputs": [
    {
     "name": "stdout",
     "output_type": "stream",
     "text": [
      "0.7702647285991773\n"
     ]
    },
    {
     "data": {
      "image/png": "[encoded data removed]",
      "text/plain": [
       "<Figure size 432x288 with 1 Axes>"
      ]
     },
     "metadata": {},
     "output_type": "display_data"
    }
   ],
   "source": [
    "#建模所需库\n",
    "from sklearn.ensemble import RandomForestClassifier\n",
    "from sklearn.metrics import confusion_matrix, classification_report, roc_curve, roc_auc_score\n",
    "from sklearn.model_selection import train_test_split\n",
    "#分割X与Y\n",
    "X=data_train.drop(columns='是否购买')#令x去掉‘是否购买’这一列\n",
    "y=data_train['是否购买']\n",
    "X_train, X_test, y_train, y_test = train_test_split(X,y,test_size=0.33, random_state=42)\n",
    "clf=RandomForestClassifier()\n",
    "clf.fit(X_train,y_train)\n",
    "y_pred=clf.predict(X_test)\n",
    "y_probas = clf.predict_proba(X_test)\n",
    "y_scores = y_probas[:,1]#关键一步得到scores\n",
    "fpr1,tpr1,thresh1 = roc_curve(y_test,y_scores)\n",
    "plt.title('ROC_curve by RFC')\n",
    "plt.xlabel('FP1')\n",
    "plt.ylabel('TP1')\n",
    "plt.plot(fpr1,tpr1)\n",
    "plt.plot([0, 1], [0, 1], lw=2, linestyle=\"--\")\n",
    "test_auc = roc_auc_score(y_test,y_pred)\n",
    "print(test_auc)"
   ]
  },
  {
   "cell_type": "code",
   "execution_count": 22,
   "metadata": {},
   "outputs": [
    {
     "name": "stdout",
     "output_type": "stream",
     "text": [
      "0.6745087599223039\n"
     ]
    },
    {
     "data": {
      "text/plain": [
       "Text(0, 0.5, 'TP2')"
      ]
     },
     "execution_count": 22,
     "metadata": {},
     "output_type": "execute_result"
    },
    {
     "data": {
      "image/png": "[encoded data removed]",
      "text/plain": [
       "<Figure size 432x288 with 1 Axes>"
      ]
     },
     "metadata": {},
     "output_type": "display_data"
    }
   ],
   "source": [
    "#根据以上的随机森林预测模型，尝试使用Logistic模型进行预测\n",
    "from sklearn.linear_model import LogisticRegression\n",
    "from sklearn.model_selection import GridSearchCV\n",
    "X=data_train.drop(columns='是否购买')\n",
    "y=data_train['是否购买']\n",
    "X_train, X_test, y_train, y_test = train_test_split(X,y,test_size=0.33, random_state=42)\n",
    "clf2=LogisticRegression()\n",
    "clf2.fit(X_train,y_train)\n",
    "y_pred2=clf2.predict(X_test)\n",
    "y_probas2 = clf2.predict_proba(X_test)\n",
    "y_scores2 = y_probas2[:,1]#关键一步得到scores\n",
    "fpr2,tpr2,thresh2 = roc_curve(y_test,y_scores)\n",
    "test_auc2 = roc_auc_score(y_test,y_pred2)\n",
    "print(test_auc2)\n",
    "#完成绘图部分\n",
    "plt.plot(fpr2,tpr2)\n",
    "plt.plot([0, 1], [0, 1], lw=2, linestyle=\"--\")\n",
    "plt.title('ROC_curve by LR')\n",
    "plt.xlabel('FP2')\n",
    "plt.ylabel('TP2')\n"
   ]
  },
  {
   "cell_type": "code",
   "execution_count": 61,
   "metadata": {},
   "outputs": [
    {
     "name": "stdout",
     "output_type": "stream",
     "text": [
      "{'n_estimators': 90}\n",
      "{'max_depth': 11, 'min_samples_split': 90}\n",
      "{'min_samples_leaf': 10, 'min_samples_split': 120}\n",
      "{'max_features': 7}\n"
     ]
    }
   ],
   "source": [
    "from sklearn.model_selection import GridSearchCV\n",
    "from sklearn.ensemble import RandomForestClassifier\n",
    "\n",
    "# 第一次调参\n",
    "param_test1 = {'n_estimators': range(10, 100, 10)}\n",
    "gsearch1 = GridSearchCV(estimator=RandomForestClassifier(min_samples_split=100,\n",
    "                                                         min_samples_leaf=20, max_depth=8, max_features='sqrt', random_state=10),\n",
    "                       param_grid=param_test1, scoring='roc_auc', cv=5)\n",
    "gsearch1.fit(X_train, y_train)\n",
    "print(gsearch1.best_params_)\n",
    "\n",
    "# 第二次调参\n",
    "param_test2 = {'max_depth': range(3, 14, 2), 'min_samples_split': range(50, 201, 20)}\n",
    "gsearch2 = GridSearchCV(estimator=RandomForestClassifier(n_estimators=70,\n",
    "                                                         min_samples_leaf=20, oob_score=True, random_state=10),\n",
    "                       param_grid=param_test2, scoring='roc_auc', cv=5)\n",
    "gsearch2.fit(X_train, y_train)\n",
    "print(gsearch2.best_params_)\n",
    "\n",
    "# 第三次调参\n",
    "param_test3 = {'min_samples_split': range(80, 150, 20), 'min_samples_leaf': range(10, 60, 10)}\n",
    "gsearch3 = GridSearchCV(estimator=RandomForestClassifier(n_estimators=70, max_depth=7, min_samples_split=50,\n",
    "                                                         oob_score=True, random_state=10),\n",
    "                       param_grid=param_test3, scoring='roc_auc', cv=5)\n",
    "gsearch3.fit(X_train, y_train)\n",
    "print(gsearch3.best_params_)\n",
    "\n",
    "# 第四次调参\n",
    "param_test4 = {'max_features': range(3, 8, 2)}\n",
    "gsearch4 = GridSearchCV(estimator=RandomForestClassifier(n_estimators=70, max_depth=7, min_samples_split=50,\n",
    "                                                         min_samples_leaf=20, oob_score=True, random_state=10),\n",
    "                       param_grid=param_test4, scoring='roc_auc', cv=5)\n",
    "gsearch4.fit(X_train, y_train)\n",
    "print(gsearch4.best_params_)"
   ]
  },
  {
   "cell_type": "code",
   "execution_count": 64,
   "metadata": {},
   "outputs": [
    {
     "name": "stdout",
     "output_type": "stream",
     "text": [
      "0.76952390147286\n"
     ]
    },
    {
     "data": {
      "image/png": "[encoded data removed]",
      "text/plain": [
       "<Figure size 432x288 with 1 Axes>"
      ]
     },
     "metadata": {},
     "output_type": "display_data"
    }
   ],
   "source": [
    "#根据调参结果再次进行随机森林预测\n",
    "X_train, X_test, y_train, y_test = train_test_split(X,y,test_size=0.33, random_state=42)\n",
    "clf_best=RandomForestClassifier(n_estimators=90,max_depth=11,min_samples_split=90,min_samples_leaf=80,max_features=7)\n",
    "clf_best.fit(X_train,y_train)\n",
    "y_pred=clf_best.predict(X_test)\n",
    "y_probas = clf_best.predict_proba(X_test)\n",
    "y_scores = y_probas[:,1]#关键一步得到scores\n",
    "fpr1,tpr1,thresh1 = roc_curve(y_test,y_scores)\n",
    "plt.title('ROC_curve by RF_best')\n",
    "plt.xlabel('FP1')\n",
    "plt.ylabel('TP1')\n",
    "plt.plot(fpr1,tpr1,color='yellow')\n",
    "plt.plot([0, 1], [0, 1], lw=2, linestyle=\"--\")\n",
    "test_auc = roc_auc_score(y_test,y_pred)\n",
    "print(test_auc)"
   ]
  },
  {
   "cell_type": "code",
   "execution_count": null,
   "metadata": {},
   "outputs": [],
   "source": []
  }
 ],
 "metadata": {
  "kernelspec": {
   "display_name": "Python 3 (ipykernel)",
   "language": "python",
   "name": "python3"
  },
  "language_info": {
   "codemirror_mode": {
    "name": "ipython",
    "version": 3
   },
   "file_extension": ".py",
   "mimetype": "text/x-python",
   "name": "python",
   "nbconvert_exporter": "python",
   "pygments_lexer": "ipython3",
   "version": "3.10.0"
  }
 },
 "nbformat": 4,
 "nbformat_minor": 4
}
